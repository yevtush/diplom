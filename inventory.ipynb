{
 "cells": [
  {
   "cell_type": "code",
   "execution_count": 1,
   "metadata": {
    "execution": {
     "iopub.execute_input": "2025-06-03T21:07:06.962587Z",
     "iopub.status.busy": "2025-06-03T21:07:06.962141Z",
     "iopub.status.idle": "2025-06-03T21:07:11.513200Z",
     "shell.execute_reply": "2025-06-03T21:07:11.512138Z",
     "shell.execute_reply.started": "2025-06-03T21:07:06.962549Z"
    },
    "trusted": true
   },
   "outputs": [],
   "source": [
    "import pandas as pd\n",
    "import numpy as np\n",
    "import matplotlib.pyplot as plt\n",
    "import matplotlib.dates as mdates\n",
    "import seaborn as sns\n",
    "import plotly.express as px\n",
    "from scipy import stats\n",
    "import warnings\n",
    "import statsmodels.api as sm\n",
    "warnings.filterwarnings(\"ignore\")\n"
   ]
  },
  {
   "cell_type": "code",
   "execution_count": 2,
   "metadata": {
    "execution": {
     "iopub.execute_input": "2025-06-03T21:07:12.839088Z",
     "iopub.status.busy": "2025-06-03T21:07:12.837901Z",
     "iopub.status.idle": "2025-06-03T21:07:12.955967Z",
     "shell.execute_reply": "2025-06-03T21:07:12.954710Z",
     "shell.execute_reply.started": "2025-06-03T21:07:12.839051Z"
    },
    "trusted": true
   },
   "outputs": [],
   "source": [
    "df=pd.read_csv('/kaggle/input/superstore-sales/Superstore.csv', encoding=\"latin1\")"
   ]
  },
  {
   "cell_type": "code",
   "execution_count": 3,
   "metadata": {
    "execution": {
     "iopub.execute_input": "2025-06-03T21:07:15.840905Z",
     "iopub.status.busy": "2025-06-03T21:07:15.840555Z",
     "iopub.status.idle": "2025-06-03T21:07:15.875244Z",
     "shell.execute_reply": "2025-06-03T21:07:15.874271Z",
     "shell.execute_reply.started": "2025-06-03T21:07:15.840880Z"
    },
    "trusted": true
   },
   "outputs": [],
   "source": [
    "df = df.drop_duplicates()"
   ]
  },
  {
   "cell_type": "markdown",
   "metadata": {},
   "source": [
    "# Крок 1: Аналіз категорійної структури"
   ]
  },
  {
   "cell_type": "markdown",
   "metadata": {},
   "source": [
    "Визначимо всі унікальні категорії"
   ]
  },
  {
   "cell_type": "code",
   "execution_count": 4,
   "metadata": {
    "execution": {
     "iopub.execute_input": "2025-06-03T21:07:18.227576Z",
     "iopub.status.busy": "2025-06-03T21:07:18.227236Z",
     "iopub.status.idle": "2025-06-03T21:07:18.233496Z",
     "shell.execute_reply": "2025-06-03T21:07:18.232652Z",
     "shell.execute_reply.started": "2025-06-03T21:07:18.227541Z"
    },
    "trusted": true
   },
   "outputs": [
    {
     "name": "stdout",
     "output_type": "stream",
     "text": [
      "Унікальні категорії: ['Furniture' 'Office Supplies' 'Technology']\n"
     ]
    }
   ],
   "source": [
    "unique_categories = df['Category'].unique()\n",
    "print(\"Унікальні категорії:\", unique_categories)"
   ]
  },
  {
   "cell_type": "markdown",
   "metadata": {},
   "source": [
    "Визначимо всі підкатегорії в кожній категорії"
   ]
  },
  {
   "cell_type": "code",
   "execution_count": 5,
   "metadata": {
    "execution": {
     "iopub.execute_input": "2025-06-03T21:07:20.242713Z",
     "iopub.status.busy": "2025-06-03T21:07:20.241898Z",
     "iopub.status.idle": "2025-06-03T21:07:20.259278Z",
     "shell.execute_reply": "2025-06-03T21:07:20.257995Z",
     "shell.execute_reply.started": "2025-06-03T21:07:20.242679Z"
    },
    "trusted": true
   },
   "outputs": [
    {
     "name": "stdout",
     "output_type": "stream",
     "text": [
      "Підкатегорії в кожній категорії:\n",
      " Category\n",
      "Furniture                   [Bookcases, Chairs, Tables, Furnishings]\n",
      "Office Supplies    [Labels, Storage, Art, Binders, Appliances, Pa...\n",
      "Technology                  [Phones, Accessories, Machines, Copiers]\n",
      "Name: Sub-Category, dtype: object\n"
     ]
    }
   ],
   "source": [
    "subcategories_per_category = df.groupby('Category')['Sub-Category'].unique()\n",
    "print(\"Підкатегорії в кожній категорії:\\n\", subcategories_per_category)"
   ]
  },
  {
   "cell_type": "markdown",
   "metadata": {},
   "source": [
    "Підрахунок кількості SKU в кожній категорії та підкатегорії"
   ]
  },
  {
   "cell_type": "code",
   "execution_count": 6,
   "metadata": {
    "execution": {
     "iopub.execute_input": "2025-06-03T21:07:22.168285Z",
     "iopub.status.busy": "2025-06-03T21:07:22.167976Z",
     "iopub.status.idle": "2025-06-03T21:07:22.189034Z",
     "shell.execute_reply": "2025-06-03T21:07:22.188071Z",
     "shell.execute_reply.started": "2025-06-03T21:07:22.168261Z"
    },
    "trusted": true
   },
   "outputs": [
    {
     "name": "stdout",
     "output_type": "stream",
     "text": [
      "           Category Sub-Category  SKU Count\n",
      "0         Furniture    Bookcases         49\n",
      "1         Furniture       Chairs         87\n",
      "2         Furniture  Furnishings        182\n",
      "3         Furniture       Tables         57\n",
      "4   Office Supplies   Appliances         98\n",
      "5   Office Supplies          Art        163\n",
      "6   Office Supplies      Binders        210\n",
      "7   Office Supplies    Envelopes         54\n",
      "8   Office Supplies    Fasteners         43\n",
      "9   Office Supplies       Labels         70\n",
      "10  Office Supplies        Paper        276\n",
      "11  Office Supplies      Storage        131\n",
      "12  Office Supplies     Supplies         38\n",
      "13       Technology  Accessories        144\n",
      "14       Technology      Copiers         13\n",
      "15       Technology     Machines         63\n",
      "16       Technology       Phones        184\n"
     ]
    }
   ],
   "source": [
    "sku_counts = df.groupby(['Category', 'Sub-Category'])['Product ID'].nunique().reset_index()\n",
    "sku_counts.rename(columns={'Product ID': 'SKU Count'}, inplace=True)\n",
    "print(sku_counts)"
   ]
  },
  {
   "cell_type": "markdown",
   "metadata": {},
   "source": [
    "Визначимо внесок у загальні продажі"
   ]
  },
  {
   "cell_type": "code",
   "execution_count": 7,
   "metadata": {
    "execution": {
     "iopub.execute_input": "2025-06-03T21:07:25.273208Z",
     "iopub.status.busy": "2025-06-03T21:07:25.272869Z",
     "iopub.status.idle": "2025-06-03T21:07:25.298399Z",
     "shell.execute_reply": "2025-06-03T21:07:25.297252Z",
     "shell.execute_reply.started": "2025-06-03T21:07:25.273184Z"
    },
    "trusted": true
   },
   "outputs": [
    {
     "name": "stdout",
     "output_type": "stream",
     "text": [
      "Внесок категорій:\n",
      "           Category  Quantity  Contribution_Percent\n",
      "0        Furniture      8028             21.197159\n",
      "1  Office Supplies     22906             60.481082\n",
      "2       Technology      6939             18.321760\n",
      "\n",
      "Внесок підкатегорій:\n",
      "            Category Sub-Category  Quantity  Contribution_Percent\n",
      "0         Furniture    Bookcases       868              2.291870\n",
      "1         Furniture       Chairs      2356              6.220791\n",
      "2         Furniture  Furnishings      3563              9.407758\n",
      "3         Furniture       Tables      1241              3.276741\n",
      "4   Office Supplies   Appliances      1729              4.565258\n",
      "5   Office Supplies          Art      3000              7.921210\n",
      "6   Office Supplies      Binders      5974             15.773770\n",
      "7   Office Supplies    Envelopes       906              2.392206\n",
      "8   Office Supplies    Fasteners       914              2.413329\n",
      "9   Office Supplies       Labels      1400              3.696565\n",
      "10  Office Supplies        Paper      5178             13.672009\n",
      "11  Office Supplies      Storage      3158              8.338394\n",
      "12  Office Supplies     Supplies       647              1.708341\n",
      "13       Technology  Accessories      2976              7.857841\n",
      "14       Technology      Copiers       234              0.617854\n",
      "15       Technology     Machines       440              1.161778\n",
      "16       Technology       Phones      3289              8.684287\n"
     ]
    }
   ],
   "source": [
    "# Загальна кількість проданих одиниць\n",
    "total_quantity = df['Quantity'].sum()\n",
    "\n",
    "# Внесок категорій\n",
    "category_contribution = (\n",
    "    df.groupby('Category')['Quantity']\n",
    "    .sum()\n",
    "    .reset_index()\n",
    "    .assign(Contribution_Percent=lambda x: 100 * x['Quantity'] / total_quantity)\n",
    ")\n",
    "\n",
    "# Внесок підкатегорій\n",
    "subcategory_contribution = (\n",
    "    df.groupby(['Category', 'Sub-Category'])['Quantity']\n",
    "    .sum()\n",
    "    .reset_index()\n",
    "    .assign(Contribution_Percent=lambda x: 100 * x['Quantity'] / total_quantity)\n",
    ")\n",
    "\n",
    "print(\"Внесок категорій:\\n\", category_contribution)\n",
    "print(\"\\nВнесок підкатегорій:\\n\", subcategory_contribution)"
   ]
  },
  {
   "cell_type": "markdown",
   "metadata": {},
   "source": [
    "# Крок 2: Аналіз історичних даних"
   ]
  },
  {
   "cell_type": "code",
   "execution_count": 8,
   "metadata": {
    "execution": {
     "iopub.execute_input": "2025-06-03T21:07:29.172438Z",
     "iopub.status.busy": "2025-06-03T21:07:29.172112Z",
     "iopub.status.idle": "2025-06-03T21:07:29.188190Z",
     "shell.execute_reply": "2025-06-03T21:07:29.187160Z",
     "shell.execute_reply.started": "2025-06-03T21:07:29.172413Z"
    },
    "trusted": true
   },
   "outputs": [],
   "source": [
    "df['Order Date'] = pd.to_datetime(df['Order Date'], dayfirst=True)"
   ]
  },
  {
   "cell_type": "markdown",
   "metadata": {},
   "source": [
    "Частка кожної категорії в загальних продажах за останні періоди"
   ]
  },
  {
   "cell_type": "code",
   "execution_count": 9,
   "metadata": {
    "execution": {
     "iopub.execute_input": "2025-06-03T21:07:31.152538Z",
     "iopub.status.busy": "2025-06-03T21:07:31.152207Z",
     "iopub.status.idle": "2025-06-03T21:07:31.174005Z",
     "shell.execute_reply": "2025-06-03T21:07:31.172720Z",
     "shell.execute_reply.started": "2025-06-03T21:07:31.152495Z"
    },
    "trusted": true
   },
   "outputs": [
    {
     "name": "stdout",
     "output_type": "stream",
     "text": [
      "    YearMonth         Category  Quantity     Share\n",
      "139   2014-11  Office Supplies      1071  0.598658\n",
      "140   2014-11       Technology       375  0.209614\n",
      "141   2014-12        Furniture       415  0.232754\n",
      "142   2014-12  Office Supplies      1088  0.610208\n",
      "143   2014-12       Technology       280  0.157039\n"
     ]
    }
   ],
   "source": [
    "df['YearMonth'] = df['Order Date'].dt.to_period('M')\n",
    "\n",
    "# Групування за місяцем і категорією\n",
    "monthly_sales = df.groupby(['YearMonth', 'Category'])['Quantity'].sum().reset_index()\n",
    "\n",
    "# Додати загальні продажі на місяць\n",
    "monthly_total = monthly_sales.groupby('YearMonth')['Quantity'].transform('sum')\n",
    "monthly_sales['Share'] = monthly_sales['Quantity'] / monthly_total\n",
    "\n",
    "print(monthly_sales.tail())"
   ]
  },
  {
   "cell_type": "markdown",
   "metadata": {},
   "source": [
    "Частка кожної підкатегорії в її батьківській категорії"
   ]
  },
  {
   "cell_type": "code",
   "execution_count": 10,
   "metadata": {
    "execution": {
     "iopub.execute_input": "2025-06-03T21:07:33.839448Z",
     "iopub.status.busy": "2025-06-03T21:07:33.839142Z",
     "iopub.status.idle": "2025-06-03T21:07:33.857478Z",
     "shell.execute_reply": "2025-06-03T21:07:33.856182Z",
     "shell.execute_reply.started": "2025-06-03T21:07:33.839428Z"
    },
    "trusted": true
   },
   "outputs": [
    {
     "name": "stdout",
     "output_type": "stream",
     "text": [
      "           Category Sub-Category  Quantity  Share_in_Category\n",
      "0         Furniture    Bookcases       868           0.108122\n",
      "1         Furniture       Chairs      2356           0.293473\n",
      "2         Furniture  Furnishings      3563           0.443822\n",
      "3         Furniture       Tables      1241           0.154584\n",
      "4   Office Supplies   Appliances      1729           0.075482\n",
      "5   Office Supplies          Art      3000           0.130970\n",
      "6   Office Supplies      Binders      5974           0.260805\n",
      "7   Office Supplies    Envelopes       906           0.039553\n",
      "8   Office Supplies    Fasteners       914           0.039902\n",
      "9   Office Supplies       Labels      1400           0.061119\n",
      "10  Office Supplies        Paper      5178           0.226054\n",
      "11  Office Supplies      Storage      3158           0.137868\n",
      "12  Office Supplies     Supplies       647           0.028246\n",
      "13       Technology  Accessories      2976           0.428880\n",
      "14       Technology      Copiers       234           0.033722\n",
      "15       Technology     Machines       440           0.063410\n",
      "16       Technology       Phones      3289           0.473988\n"
     ]
    }
   ],
   "source": [
    "subcategory_sales = df.groupby(['Category', 'Sub-Category'])['Quantity'].sum().reset_index()\n",
    "\n",
    "# Додати загальні продажі для кожної категорії\n",
    "category_totals = subcategory_sales.groupby('Category')['Quantity'].transform('sum')\n",
    "subcategory_sales['Share_in_Category'] = subcategory_sales['Quantity'] / category_totals\n",
    "\n",
    "print(subcategory_sales)"
   ]
  },
  {
   "cell_type": "code",
   "execution_count": 11,
   "metadata": {
    "execution": {
     "iopub.execute_input": "2025-06-03T21:07:36.075258Z",
     "iopub.status.busy": "2025-06-03T21:07:36.074911Z",
     "iopub.status.idle": "2025-06-03T21:07:36.097180Z",
     "shell.execute_reply": "2025-06-03T21:07:36.096216Z",
     "shell.execute_reply.started": "2025-06-03T21:07:36.075236Z"
    },
    "trusted": true
   },
   "outputs": [
    {
     "name": "stdout",
     "output_type": "stream",
     "text": [
      "        Category Sub-Category       Product ID  Quantity  Share_in_Subcategory\n",
      "0      Furniture    Bookcases  FUR-BO-10000112         9              0.010369\n",
      "1      Furniture    Bookcases  FUR-BO-10000330        10              0.011521\n",
      "2      Furniture    Bookcases  FUR-BO-10000362        14              0.016129\n",
      "3      Furniture    Bookcases  FUR-BO-10000468        21              0.024194\n",
      "4      Furniture    Bookcases  FUR-BO-10000711        12              0.013825\n",
      "...          ...          ...              ...       ...                   ...\n",
      "1857  Technology       Phones  TEC-PH-10004912        11              0.003344\n",
      "1858  Technology       Phones  TEC-PH-10004922        19              0.005777\n",
      "1859  Technology       Phones  TEC-PH-10004924         8              0.002432\n",
      "1860  Technology       Phones  TEC-PH-10004959         4              0.001216\n",
      "1861  Technology       Phones  TEC-PH-10004977        32              0.009729\n",
      "\n",
      "[1862 rows x 5 columns]\n"
     ]
    }
   ],
   "source": [
    "sku_sales = df.groupby(['Category', 'Sub-Category', 'Product ID'])['Quantity'].sum().reset_index()\n",
    "\n",
    "# Додати загальні продажі на підкатегорію\n",
    "subcategory_totals = sku_sales.groupby(['Category', 'Sub-Category'])['Quantity'].transform('sum')\n",
    "sku_sales['Share_in_Subcategory'] = sku_sales['Quantity'] / subcategory_totals\n",
    "\n",
    "print(sku_sales)\n"
   ]
  },
  {
   "cell_type": "code",
   "execution_count": 12,
   "metadata": {
    "execution": {
     "iopub.execute_input": "2025-06-03T21:07:38.376345Z",
     "iopub.status.busy": "2025-06-03T21:07:38.375215Z",
     "iopub.status.idle": "2025-06-03T21:07:38.910554Z",
     "shell.execute_reply": "2025-06-03T21:07:38.909573Z",
     "shell.execute_reply.started": "2025-06-03T21:07:38.376311Z"
    },
    "trusted": true
   },
   "outputs": [
    {
     "data": {
      "image/png": "[encoded data removed]",
      "text/plain": [
       "<Figure size 1400x600 with 1 Axes>"
      ]
     },
     "metadata": {},
     "output_type": "display_data"
    }
   ],
   "source": [
    "# Категорії: помісячні продажі\n",
    "category_trends = df.groupby([df['Order Date'].dt.to_period('M'), 'Category'])['Quantity'].sum().unstack().fillna(0)\n",
    "\n",
    "# Побудова графіку (за потреби)\n",
    "import matplotlib.pyplot as plt\n",
    "category_trends.plot(figsize=(14, 6), title='Категорійні тренди продажів')\n",
    "plt.ylabel('Sales')\n",
    "plt.show()\n"
   ]
  },
  {
   "cell_type": "code",
   "execution_count": 13,
   "metadata": {
    "execution": {
     "iopub.execute_input": "2025-06-03T21:07:41.809098Z",
     "iopub.status.busy": "2025-06-03T21:07:41.808307Z",
     "iopub.status.idle": "2025-06-03T21:07:41.825897Z",
     "shell.execute_reply": "2025-06-03T21:07:41.824381Z",
     "shell.execute_reply.started": "2025-06-03T21:07:41.809070Z"
    },
    "trusted": true
   },
   "outputs": [
    {
     "name": "stdout",
     "output_type": "stream",
     "text": [
      "           Category  Month  Quantity\n",
      "0         Furniture      1  4.287500\n",
      "1         Furniture      2  3.276923\n",
      "2         Furniture      3  3.770370\n",
      "3         Furniture      4  3.635036\n",
      "4         Furniture      5  3.973856\n",
      "5         Furniture      6  3.721429\n",
      "6         Furniture      7  3.714286\n",
      "7         Furniture      8  3.777778\n",
      "8         Furniture      9  3.531915\n",
      "9         Furniture     10  3.789189\n",
      "10        Furniture     11  3.813880\n",
      "11        Furniture     12  3.993994\n",
      "12  Office Supplies      1  3.789700\n",
      "13  Office Supplies      2  3.725714\n",
      "14  Office Supplies      3  3.658537\n",
      "15  Office Supplies      4  3.666667\n",
      "16  Office Supplies      5  3.777056\n",
      "17  Office Supplies      6  3.759637\n",
      "18  Office Supplies      7  3.792683\n",
      "19  Office Supplies      8  3.984444\n",
      "20  Office Supplies      9  3.689735\n",
      "21  Office Supplies     10  3.800000\n",
      "22  Office Supplies     11  3.993031\n",
      "23  Office Supplies     12  3.815884\n",
      "24       Technology      1  3.702703\n",
      "25       Technology      2  3.327869\n",
      "26       Technology      3  3.570370\n",
      "27       Technology      4  3.791304\n",
      "28       Technology      5  3.681481\n",
      "29       Technology      6  3.632812\n",
      "30       Technology      7  4.046154\n",
      "31       Technology      8  3.932836\n",
      "32       Technology      9  3.704641\n",
      "33       Technology     10  3.751592\n",
      "34       Technology     11  3.852113\n",
      "35       Technology     12  3.766537\n"
     ]
    }
   ],
   "source": [
    "# Середній продаж по місяцях у розрізі року\n",
    "df['Month'] = df['Order Date'].dt.month\n",
    "seasonality = df.groupby(['Category', 'Month'])['Quantity'].mean().reset_index()\n",
    "\n",
    "print(seasonality)\n"
   ]
  },
  {
   "cell_type": "markdown",
   "metadata": {},
   "source": [
    "# Загальний прогноз"
   ]
  },
  {
   "cell_type": "code",
   "execution_count": null,
   "metadata": {
    "execution": {
     "iopub.execute_input": "2025-06-03T21:07:45.659030Z",
     "iopub.status.busy": "2025-06-03T21:07:45.658656Z",
     "iopub.status.idle": "2025-06-03T21:07:45.671059Z",
     "shell.execute_reply": "2025-06-03T21:07:45.669229Z",
     "shell.execute_reply.started": "2025-06-03T21:07:45.659005Z"
    },
    "trusted": true
   },
   "outputs": [
    {
     "name": "stdout",
     "output_type": "stream",
     "text": [
      "         Date  Predicted_Quantity\n",
      "0  2015-01-01          615.464966\n",
      "1  2015-02-01          930.078796\n",
      "2  2015-03-01         1367.803345\n",
      "3  2015-04-01         1517.312378\n",
      "4  2015-05-01         1674.555176\n",
      "5  2015-06-01         1665.634766\n",
      "6  2015-07-01         1633.679932\n",
      "7  2015-08-01         1712.018066\n",
      "8  2015-09-01         1753.078613\n",
      "9  2015-10-01         1740.651367\n",
      "10 2015-11-01         1768.306763\n",
      "11 2015-12-01         1767.003540\n"
     ]
    }
   ],
   "source": [
    "import pandas as pd\n",
    "data = {\n",
    "    'Date': [\n",
    "        '2015-01-01', '2015-02-01', '2015-03-01', '2015-04-01',\n",
    "        '2015-05-01', '2015-06-01', '2015-07-01', '2015-08-01',\n",
    "        '2015-09-01', '2015-10-01', '2015-11-01', '2015-12-01'\n",
    "    ],\n",
    "    'Predicted_Quantity': [\n",
    "        615.464966, 930.078796, 1367.803345, 1517.312378,\n",
    "        1674.555176, 1665.634766, 1633.679932, 1712.018066,\n",
    "        1753.078613, 1740.651367, 1768.306763, 1767.003540\n",
    "    ]\n",
    "}\n",
    "\n",
    "sales_pred = pd.DataFrame(data)\n",
    "sales_pred['Date'] = pd.to_datetime(sales_pred['Date'])\n",
    "\n",
    "print(sales_pred)\n"
   ]
  },
  {
   "cell_type": "markdown",
   "metadata": {},
   "source": [
    "# Крок 4: Розподіл на категорії"
   ]
  },
  {
   "cell_type": "code",
   "execution_count": 15,
   "metadata": {
    "execution": {
     "iopub.execute_input": "2025-06-03T21:07:48.708717Z",
     "iopub.status.busy": "2025-06-03T21:07:48.708326Z",
     "iopub.status.idle": "2025-06-03T21:07:48.719456Z",
     "shell.execute_reply": "2025-06-03T21:07:48.718640Z",
     "shell.execute_reply.started": "2025-06-03T21:07:48.708688Z"
    },
    "trusted": true
   },
   "outputs": [
    {
     "name": "stdout",
     "output_type": "stream",
     "text": [
      "Category\n",
      "Furniture          0.211972\n",
      "Office Supplies    0.604811\n",
      "Technology         0.183218\n",
      "Name: Quantity, dtype: float64\n"
     ]
    }
   ],
   "source": [
    "# Підрахунок історичних часток продажів по категоріях\n",
    "category_shares = df.groupby('Category')['Quantity'].sum()\n",
    "category_shares = category_shares / category_shares.sum()\n",
    "print(category_shares)\n"
   ]
  },
  {
   "cell_type": "code",
   "execution_count": 16,
   "metadata": {
    "execution": {
     "iopub.execute_input": "2025-06-03T21:07:51.944333Z",
     "iopub.status.busy": "2025-06-03T21:07:51.944010Z",
     "iopub.status.idle": "2025-06-03T21:07:51.957631Z",
     "shell.execute_reply": "2025-06-03T21:07:51.956367Z",
     "shell.execute_reply.started": "2025-06-03T21:07:51.944310Z"
    },
    "trusted": true
   },
   "outputs": [
    {
     "name": "stdout",
     "output_type": "stream",
     "text": [
      "         Date         Category  Forecast_Quantity\n",
      "0  2015-01-01        Furniture         130.461087\n",
      "1  2015-01-01  Office Supplies         372.239868\n",
      "2  2015-01-01       Technology         112.764011\n",
      "3  2015-02-01        Furniture         197.150281\n",
      "4  2015-02-01  Office Supplies         562.521715\n",
      "5  2015-02-01       Technology         170.406801\n",
      "6  2015-03-01        Furniture         289.935449\n",
      "7  2015-03-01  Office Supplies         827.262256\n",
      "8  2015-03-01       Technology         250.605640\n",
      "9  2015-04-01        Furniture         321.627116\n",
      "10 2015-04-01  Office Supplies         917.686936\n",
      "11 2015-04-01       Technology         277.998326\n",
      "12 2015-05-01        Furniture         354.958122\n",
      "13 2015-05-01  Office Supplies        1012.789081\n",
      "14 2015-05-01       Technology         306.807973\n",
      "15 2015-06-01        Furniture         353.067248\n",
      "16 2015-06-01  Office Supplies        1007.393920\n",
      "17 2015-06-01       Technology         305.173597\n",
      "18 2015-07-01        Furniture         346.293732\n",
      "19 2015-07-01  Office Supplies         988.067291\n",
      "20 2015-07-01       Technology         299.318909\n",
      "21 2015-08-01        Furniture         362.899190\n",
      "22 2015-08-01  Office Supplies        1035.447042\n",
      "23 2015-08-01       Technology         313.671834\n",
      "24 2015-09-01        Furniture         371.602860\n",
      "25 2015-09-01  Office Supplies        1060.280905\n",
      "26 2015-09-01       Technology         321.194848\n",
      "27 2015-10-01        Furniture         368.968637\n",
      "28 2015-10-01  Office Supplies        1052.764772\n",
      "29 2015-10-01       Technology         318.917958\n",
      "30 2015-11-01        Furniture         374.830795\n",
      "31 2015-11-01  Office Supplies        1069.491055\n",
      "32 2015-11-01       Technology         323.984913\n",
      "33 2015-12-01        Furniture         374.554549\n",
      "34 2015-12-01  Office Supplies        1068.702851\n",
      "35 2015-12-01       Technology         323.746140\n"
     ]
    }
   ],
   "source": [
    "# Створимо новий датафрейм із категоріями, який будемо заповнювати\n",
    "category_forecast = []\n",
    "\n",
    "for _, row in sales_pred.iterrows():\n",
    "    total = row['Predicted_Quantity']\n",
    "    date = row['Date']\n",
    "    for cat, share in category_shares.items():\n",
    "        category_forecast.append({\n",
    "            'Date': date,\n",
    "            'Category': cat,\n",
    "            'Forecast_Quantity': total * share\n",
    "        })\n",
    "\n",
    "category_forecast_df = pd.DataFrame(category_forecast)\n",
    "print(category_forecast_df)\n"
   ]
  },
  {
   "cell_type": "markdown",
   "metadata": {},
   "source": [
    "# Крок 6: Розподіл категорій на підкатегорії"
   ]
  },
  {
   "cell_type": "code",
   "execution_count": 17,
   "metadata": {
    "execution": {
     "iopub.execute_input": "2025-06-03T21:07:55.206014Z",
     "iopub.status.busy": "2025-06-03T21:07:55.205716Z",
     "iopub.status.idle": "2025-06-03T21:07:55.220739Z",
     "shell.execute_reply": "2025-06-03T21:07:55.219671Z",
     "shell.execute_reply.started": "2025-06-03T21:07:55.205994Z"
    },
    "trusted": true
   },
   "outputs": [
    {
     "name": "stdout",
     "output_type": "stream",
     "text": [
      "Category         Category         Sub-Category\n",
      "Furniture        Furniture        Bookcases       0.108122\n",
      "                                  Chairs          0.293473\n",
      "                                  Furnishings     0.443822\n",
      "                                  Tables          0.154584\n",
      "Office Supplies  Office Supplies  Appliances      0.075482\n",
      "Name: Quantity, dtype: float64\n"
     ]
    }
   ],
   "source": [
    "# Групування і обчислення частки підкатегорії в межах своєї категорії\n",
    "subcategory_shares = (\n",
    "    df.groupby(['Category', 'Sub-Category'])['Quantity']\n",
    "    .sum()\n",
    "    .groupby(level=0)\n",
    "    .apply(lambda x: x / x.sum())\n",
    ")\n",
    "\n",
    "print(subcategory_shares.head())\n"
   ]
  },
  {
   "cell_type": "code",
   "execution_count": 18,
   "metadata": {
    "execution": {
     "iopub.execute_input": "2025-06-03T21:07:58.105271Z",
     "iopub.status.busy": "2025-06-03T21:07:58.104958Z",
     "iopub.status.idle": "2025-06-03T21:07:58.137167Z",
     "shell.execute_reply": "2025-06-03T21:07:58.135779Z",
     "shell.execute_reply.started": "2025-06-03T21:07:58.105250Z"
    },
    "trusted": true
   },
   "outputs": [
    {
     "name": "stdout",
     "output_type": "stream",
     "text": [
      "        Date         Category                   Sub-Category  \\\n",
      "0 2015-01-01        Furniture         (Furniture, Bookcases)   \n",
      "1 2015-01-01        Furniture            (Furniture, Chairs)   \n",
      "2 2015-01-01        Furniture       (Furniture, Furnishings)   \n",
      "3 2015-01-01        Furniture            (Furniture, Tables)   \n",
      "4 2015-01-01  Office Supplies  (Office Supplies, Appliances)   \n",
      "\n",
      "   Forecast_Quantity  \n",
      "0          14.105658  \n",
      "1          38.286786  \n",
      "2          57.901452  \n",
      "3          20.167191  \n",
      "4          28.097561  \n"
     ]
    }
   ],
   "source": [
    "subcategory_forecast = []\n",
    "\n",
    "for _, row in category_forecast_df.iterrows():\n",
    "    date = row['Date']\n",
    "    category = row['Category']\n",
    "    cat_quantity = row['Forecast_Quantity']\n",
    "    \n",
    "    subcats = subcategory_shares.loc[category]\n",
    "    \n",
    "    for subcat, share in subcats.items():\n",
    "        subcategory_forecast.append({\n",
    "            'Date': date,\n",
    "            'Category': category,\n",
    "            'Sub-Category': subcat,\n",
    "            'Forecast_Quantity': cat_quantity * share\n",
    "        })\n",
    "\n",
    "subcategory_forecast_df = pd.DataFrame(subcategory_forecast)\n",
    "print(subcategory_forecast_df.head())\n"
   ]
  },
  {
   "cell_type": "markdown",
   "metadata": {},
   "source": [
    "# Крок 8: Сегментація SKU в межах підкатегорій (XYZ)"
   ]
  },
  {
   "cell_type": "code",
   "execution_count": 19,
   "metadata": {
    "execution": {
     "iopub.execute_input": "2025-06-03T21:08:00.464602Z",
     "iopub.status.busy": "2025-06-03T21:08:00.464260Z",
     "iopub.status.idle": "2025-06-03T21:08:00.477977Z",
     "shell.execute_reply": "2025-06-03T21:08:00.477095Z",
     "shell.execute_reply.started": "2025-06-03T21:08:00.464579Z"
    },
    "trusted": true
   },
   "outputs": [],
   "source": [
    "\n",
    "# Сума продажів за місяцями для кожного SKU\n",
    "sku_monthly = df.groupby(['Sub-Category', 'Product ID', 'Month'])['Quantity'].sum().reset_index()\n"
   ]
  },
  {
   "cell_type": "code",
   "execution_count": 20,
   "metadata": {
    "execution": {
     "iopub.execute_input": "2025-06-03T21:08:02.261920Z",
     "iopub.status.busy": "2025-06-03T21:08:02.261500Z",
     "iopub.status.idle": "2025-06-03T21:08:02.278303Z",
     "shell.execute_reply": "2025-06-03T21:08:02.277091Z",
     "shell.execute_reply.started": "2025-06-03T21:08:02.261895Z"
    },
    "trusted": true
   },
   "outputs": [],
   "source": [
    "# Групування за SKU у кожній підкатегорії\n",
    "sku_cv = (\n",
    "    sku_monthly\n",
    "    .groupby(['Sub-Category', 'Product ID'])['Quantity']\n",
    "    .agg(['mean', 'std'])\n",
    "    .reset_index()\n",
    ")\n",
    "\n",
    "sku_cv['cv'] = sku_cv['std'] / sku_cv['mean']\n"
   ]
  },
  {
   "cell_type": "code",
   "execution_count": 21,
   "metadata": {
    "execution": {
     "iopub.execute_input": "2025-06-03T21:08:04.996664Z",
     "iopub.status.busy": "2025-06-03T21:08:04.996315Z",
     "iopub.status.idle": "2025-06-03T21:08:05.004018Z",
     "shell.execute_reply": "2025-06-03T21:08:05.002769Z",
     "shell.execute_reply.started": "2025-06-03T21:08:04.996641Z"
    },
    "trusted": true
   },
   "outputs": [],
   "source": [
    "def classify_xyz(cv):\n",
    "    if cv <= 0.5:\n",
    "        return 'X'\n",
    "    elif cv <= 1.0:\n",
    "        return 'Y'\n",
    "    else:\n",
    "        return 'Z'\n",
    "\n",
    "sku_cv['XYZ_Class'] = sku_cv['cv'].apply(classify_xyz)\n"
   ]
  },
  {
   "cell_type": "code",
   "execution_count": 22,
   "metadata": {
    "execution": {
     "iopub.execute_input": "2025-06-03T21:08:07.524571Z",
     "iopub.status.busy": "2025-06-03T21:08:07.524217Z",
     "iopub.status.idle": "2025-06-03T21:08:07.535420Z",
     "shell.execute_reply": "2025-06-03T21:08:07.534307Z",
     "shell.execute_reply.started": "2025-06-03T21:08:07.524550Z"
    },
    "trusted": true
   },
   "outputs": [
    {
     "name": "stdout",
     "output_type": "stream",
     "text": [
      "  Sub-Category       Product ID      mean       std        cv XYZ_Class\n",
      "0  Accessories  TEC-AC-10000023  6.000000  6.733003  1.122167         Z\n",
      "1  Accessories  TEC-AC-10000057  4.750000  3.095696  0.651725         Y\n",
      "2  Accessories  TEC-AC-10000109  7.250000  5.123475  0.706686         Y\n",
      "3  Accessories  TEC-AC-10000158  3.857143  0.899735  0.233265         X\n",
      "4  Accessories  TEC-AC-10000171  3.000000  0.816497  0.272166         X\n"
     ]
    }
   ],
   "source": [
    "xyz_result = sku_cv[['Sub-Category', 'Product ID', 'mean', 'std', 'cv', 'XYZ_Class']]\n",
    "print(xyz_result.head())\n"
   ]
  },
  {
   "cell_type": "markdown",
   "metadata": {},
   "source": [
    "# Розподіл за сегментами"
   ]
  },
  {
   "cell_type": "code",
   "execution_count": null,
   "metadata": {
    "execution": {
     "iopub.execute_input": "2025-06-03T21:11:20.566621Z",
     "iopub.status.busy": "2025-06-03T21:11:20.566277Z",
     "iopub.status.idle": "2025-06-03T21:11:22.467396Z",
     "shell.execute_reply": "2025-06-03T21:11:22.466315Z",
     "shell.execute_reply.started": "2025-06-03T21:11:20.566598Z"
    },
    "trusted": true
   },
   "outputs": [
    {
     "name": "stdout",
     "output_type": "stream",
     "text": [
      "SKU частки з XYZ класифікацією:\n",
      "  Sub-Category       Product ID  Historical_Share XYZ_Class\n",
      "0  Accessories  TEC-AC-10000023          0.008065         Z\n",
      "1  Accessories  TEC-AC-10000057          0.006384         Y\n",
      "2  Accessories  TEC-AC-10000109          0.009745         Y\n",
      "3  Accessories  TEC-AC-10000158          0.009073         X\n",
      "4  Accessories  TEC-AC-10000171          0.004032         X\n",
      "\n",
      "Прогноз по SKU з урахуванням XYZ аналізу:\n",
      "         Date   Category Sub-Category       Product_ID XYZ_Class  \\\n",
      "0  2015-01-01  Furniture    Bookcases  FUR-BO-10000112         Z   \n",
      "1  2015-01-01  Furniture    Bookcases  FUR-BO-10000330         X   \n",
      "2  2015-01-01  Furniture    Bookcases  FUR-BO-10000362         Y   \n",
      "3  2015-01-01  Furniture    Bookcases  FUR-BO-10000468         Y   \n",
      "4  2015-01-01  Furniture    Bookcases  FUR-BO-10000711         Y   \n",
      "5  2015-01-01  Furniture    Bookcases  FUR-BO-10000780         Y   \n",
      "6  2015-01-01  Furniture    Bookcases  FUR-BO-10001337         Y   \n",
      "7  2015-01-01  Furniture    Bookcases  FUR-BO-10001519         Y   \n",
      "8  2015-01-01  Furniture    Bookcases  FUR-BO-10001567         Z   \n",
      "9  2015-01-01  Furniture    Bookcases  FUR-BO-10001601         Y   \n",
      "10 2015-01-01  Furniture    Bookcases  FUR-BO-10001608         Y   \n",
      "11 2015-01-01  Furniture    Bookcases  FUR-BO-10001619         Y   \n",
      "12 2015-01-01  Furniture    Bookcases  FUR-BO-10001798         X   \n",
      "13 2015-01-01  Furniture    Bookcases  FUR-BO-10001811         Y   \n",
      "14 2015-01-01  Furniture    Bookcases  FUR-BO-10001918         Y   \n",
      "15 2015-01-01  Furniture    Bookcases  FUR-BO-10001972         Y   \n",
      "16 2015-01-01  Furniture    Bookcases  FUR-BO-10002202         X   \n",
      "17 2015-01-01  Furniture    Bookcases  FUR-BO-10002206         Z   \n",
      "18 2015-01-01  Furniture    Bookcases  FUR-BO-10002213         Z   \n",
      "19 2015-01-01  Furniture    Bookcases  FUR-BO-10002268         X   \n",
      "\n",
      "    Historical_Share  Adjusted_Share  Forecast_Quantity  \n",
      "0           0.010369        0.009220           0.130057  \n",
      "1           0.011521        0.012053           0.170009  \n",
      "2           0.016129        0.016030           0.226112  \n",
      "3           0.024194        0.024045           0.339168  \n",
      "4           0.013825        0.013740           0.193810  \n",
      "5           0.025346        0.025190           0.355319  \n",
      "6           0.032258        0.032060           0.452224  \n",
      "7           0.025346        0.025190           0.355319  \n",
      "8           0.003456        0.003073           0.043352  \n",
      "9           0.011521        0.011450           0.161509  \n",
      "10          0.034562        0.034350           0.484526  \n",
      "11          0.006912        0.006870           0.096905  \n",
      "12          0.013825        0.014463           0.204011  \n",
      "13          0.029954        0.029770           0.419923  \n",
      "14          0.011521        0.011450           0.161509  \n",
      "15          0.042627        0.042365           0.597582  \n",
      "16          0.003456        0.003616           0.051003  \n",
      "17          0.001152        0.001024           0.014451  \n",
      "18          0.048387        0.043028           0.606933  \n",
      "19          0.018433        0.019284           0.272015  \n",
      "\n",
      "Розподіл прогнозу по XYZ класах:\n",
      "         Date XYZ_Class  Forecast_Quantity  Share_by_XYZ\n",
      "0  2015-01-01         X         221.897844      0.360537\n",
      "1  2015-01-01         Y         358.863565      0.583077\n",
      "2  2015-01-01         Z          34.703556      0.056386\n",
      "3  2015-02-01         X         335.327746      0.360537\n",
      "4  2015-02-01         Y         542.307704      0.583077\n",
      "5  2015-02-01         Z          52.443346      0.056386\n",
      "6  2015-03-01         X         493.143607      0.360537\n",
      "7  2015-03-01         Y         797.534892      0.583077\n",
      "8  2015-03-01         Z          77.124846      0.056386\n",
      "9  2015-04-01         X         547.047134      0.360537\n",
      "10 2015-04-01         Y         884.710195      0.583077\n",
      "11 2015-04-01         Z          85.555050      0.056386\n",
      "12 2015-05-01         X         603.738968      0.360537\n",
      "13 2015-05-01         Y         976.394879      0.583077\n",
      "14 2015-05-01         Z          94.421329      0.056386\n",
      "15 2015-06-01         X         600.522831      0.360537\n",
      "16 2015-06-01         Y         971.193592      0.583077\n",
      "17 2015-06-01         Z          93.918344      0.056386\n",
      "18 2015-07-01         X         589.001933      0.360537\n",
      "19 2015-07-01         Y         952.561458      0.583077\n",
      "20 2015-07-01         Z          92.116541      0.056386\n",
      "21 2015-08-01         X         617.245723      0.360537\n",
      "22 2015-08-01         Y         998.238634      0.583077\n",
      "23 2015-08-01         Z          96.533708      0.056386\n",
      "24 2015-09-01         X         632.049566      0.360537\n",
      "25 2015-09-01         Y        1022.180102      0.583077\n",
      "26 2015-09-01         Z          98.848945      0.056386\n",
      "27 2015-10-01         X         627.569085      0.360537\n",
      "28 2015-10-01         Y        1014.934058      0.583077\n",
      "29 2015-10-01         Z          98.148223      0.056386\n",
      "30 2015-11-01         X         637.539877      0.360537\n",
      "31 2015-11-01         Y        1031.059288      0.583077\n",
      "32 2015-11-01         Z          99.707598      0.056386\n",
      "33 2015-12-01         X         637.070017      0.360537\n",
      "34 2015-12-01         Y        1030.299409      0.583077\n",
      "35 2015-12-01         Z          99.634115      0.056386\n",
      "\n",
      "Перевірка балансу прогнозів:\n",
      "         Date  Forecast_Quantity  Predicted_Quantity    Difference\n",
      "0  2015-01-01         615.464966          615.464966  1.136868e-13\n",
      "1  2015-02-01         930.078796          930.078796  1.136868e-13\n",
      "2  2015-03-01        1367.803345         1367.803345  2.273737e-13\n",
      "3  2015-04-01        1517.312378         1517.312378  0.000000e+00\n",
      "4  2015-05-01        1674.555176         1674.555176  2.273737e-13\n",
      "5  2015-06-01        1665.634766         1665.634766  2.273737e-13\n",
      "6  2015-07-01        1633.679932         1633.679932  2.273737e-13\n",
      "7  2015-08-01        1712.018066         1712.018066  2.273737e-13\n",
      "8  2015-09-01        1753.078613         1753.078613  2.273737e-13\n",
      "9  2015-10-01        1740.651367         1740.651367  2.273737e-13\n",
      "10 2015-11-01        1768.306763         1768.306763  2.273737e-13\n",
      "11 2015-12-01        1767.003540         1767.003540  2.273737e-13\n",
      "\n",
      "Зведена таблиця прогнозів по SKU:\n",
      "Date   Category Sub-Category       Product_ID XYZ_Class  2015-01-01 00:00:00  \\\n",
      "0     Furniture    Bookcases  FUR-BO-10000112         Z             0.130057   \n",
      "1     Furniture    Bookcases  FUR-BO-10000330         X             0.170009   \n",
      "2     Furniture    Bookcases  FUR-BO-10000362         Y             0.226112   \n",
      "3     Furniture    Bookcases  FUR-BO-10000468         Y             0.339168   \n",
      "4     Furniture    Bookcases  FUR-BO-10000711         Y             0.193810   \n",
      "\n",
      "Date  2015-02-01 00:00:00  2015-03-01 00:00:00  2015-04-01 00:00:00  \\\n",
      "0                0.196540             0.289037             0.320631   \n",
      "1                0.256915             0.377827             0.419125   \n",
      "2                0.341696             0.502509             0.557437   \n",
      "3                0.512544             0.753764             0.836155   \n",
      "4                0.292883             0.430722             0.477803   \n",
      "\n",
      "Date  2015-05-01 00:00:00  2015-06-01 00:00:00  2015-07-01 00:00:00  \\\n",
      "0                0.353859             0.351974             0.345221   \n",
      "1                0.462560             0.460096             0.451269   \n",
      "2                0.615205             0.611928             0.600188   \n",
      "3                0.922808             0.917892             0.900282   \n",
      "4                0.527319             0.524510             0.514447   \n",
      "\n",
      "Date  2015-08-01 00:00:00  2015-09-01 00:00:00  2015-10-01 00:00:00  \\\n",
      "0                0.361775             0.370452             0.367826   \n",
      "1                0.472909             0.484251             0.480818   \n",
      "2                0.628969             0.644054             0.639488   \n",
      "3                0.943453             0.966080             0.959232   \n",
      "4                0.539116             0.552046             0.548133   \n",
      "\n",
      "Date  2015-11-01 00:00:00  2015-12-01 00:00:00  \n",
      "0                0.373670             0.373394  \n",
      "1                0.488457             0.488097  \n",
      "2                0.649648             0.649169  \n",
      "3                0.974472             0.973754  \n",
      "4                0.556841             0.556431  \n",
      "\n",
      "Статистика по XYZ класах:\n",
      "          Product_ID Forecast_Quantity            \n",
      "             nunique               sum  mean   std\n",
      "XYZ_Class                                         \n",
      "X                717           6542.15  0.76  0.46\n",
      "Y                962          10580.28  0.92  0.49\n",
      "Z                183           1023.16  0.47  0.47\n"
     ]
    }
   ],
   "source": [
    "# Обчислення історичних часток SKU в межах кожної підкатегорії\n",
    "sku_totals = df.groupby(['Sub-Category', 'Product ID'])['Quantity'].sum().reset_index()\n",
    "\n",
    "# Розрахунок загальної кількості по підкатегорії\n",
    "subcategory_totals = sku_totals.groupby('Sub-Category')['Quantity'].transform('sum')\n",
    "\n",
    "# Розрахунок частки кожного SKU\n",
    "sku_totals['Historical_Share'] = sku_totals['Quantity'] / subcategory_totals\n",
    "\n",
    "# Залишаємо тільки потрібні стовпці\n",
    "sku_shares = sku_totals[['Sub-Category', 'Product ID', 'Historical_Share']]\n",
    "\n",
    "# Об'єднання з XYZ аналізом\n",
    "sku_shares_xyz = sku_shares.merge(\n",
    "    xyz_result[['Sub-Category', 'Product ID', 'XYZ_Class']], \n",
    "    on=['Sub-Category', 'Product ID'], \n",
    "    how='left'\n",
    ")\n",
    "\n",
    "print(\"SKU частки з XYZ класифікацією:\")\n",
    "print(sku_shares_xyz.head())\n",
    "\n",
    "# Функція для коригування прогнозу на основі XYZ класу\n",
    "def adjust_forecast_by_xyz(forecast_qty, xyz_class, base_share):\n",
    "    if xyz_class == 'X':\n",
    "        # Для стабільних товарів використовуємо історичну частку з мінімальними змінами\n",
    "        adjustment_factor = 1.0\n",
    "    elif xyz_class == 'Y':\n",
    "        # Для помірно варіативних товарів трохи зменшуємо частку\n",
    "        adjustment_factor = 0.95\n",
    "    else:  # Z класс\n",
    "        # Для високоваріативних товарів значно зменшуємо частку (консервативний підхід)\n",
    "        adjustment_factor = 0.85\n",
    "    \n",
    "    return forecast_qty * base_share * adjustment_factor\n",
    "\n",
    "# Створення фінального прогнозу по SKU\n",
    "sku_forecast = []\n",
    "\n",
    "for _, subcat_row in subcategory_forecast_df.iterrows():\n",
    "    date = subcat_row['Date']\n",
    "    category = subcat_row['Category']\n",
    "    subcategory = subcat_row['Sub-Category']\n",
    "    subcat_quantity = subcat_row['Forecast_Quantity']\n",
    "    \n",
    "    # Отримуємо всі SKU для цієї підкатегорії\n",
    "    subcat_skus = sku_shares_xyz[sku_shares_xyz['Sub-Category'] == subcategory].copy()\n",
    "    \n",
    "    if len(subcat_skus) > 0:\n",
    "        # Розраховуємо скориговані частки\n",
    "        subcat_skus['Adjusted_Share'] = subcat_skus.apply(\n",
    "            lambda row: adjust_forecast_by_xyz(1.0, row['XYZ_Class'], row['Historical_Share']), \n",
    "            axis=1\n",
    "        )\n",
    "        \n",
    "        # Нормалізуємо частки, щоб їх сума дорівнювала 1\n",
    "        total_adjusted_share = subcat_skus['Adjusted_Share'].sum()\n",
    "        subcat_skus['Normalized_Share'] = subcat_skus['Adjusted_Share'] / total_adjusted_share\n",
    "        \n",
    "        # Розподіляємо прогноз\n",
    "        for _, sku_row in subcat_skus.iterrows():\n",
    "            sku_forecast.append({\n",
    "                'Date': date,\n",
    "                'Category': category,\n",
    "                'Sub-Category': subcategory,\n",
    "                'Product_ID': sku_row['Product ID'],\n",
    "                'XYZ_Class': sku_row['XYZ_Class'],\n",
    "                'Historical_Share': sku_row['Historical_Share'],\n",
    "                'Adjusted_Share': sku_row['Normalized_Share'],\n",
    "                'Forecast_Quantity': subcat_quantity * sku_row['Normalized_Share']\n",
    "            })\n",
    "\n",
    "sku_forecast_df = pd.DataFrame(sku_forecast)\n",
    "\n",
    "print(\"\\nПрогноз по SKU з урахуванням XYZ аналізу:\")\n",
    "print(sku_forecast_df.head(20))\n",
    "\n",
    "# Аналіз розподілу прогнозу по XYZ класах\n",
    "xyz_analysis = (\n",
    "    sku_forecast_df.groupby(['Date', 'XYZ_Class'])['Forecast_Quantity']\n",
    "    .sum()\n",
    "    .reset_index()\n",
    ")\n",
    "\n",
    "xyz_monthly_totals = xyz_analysis.groupby('Date')['Forecast_Quantity'].transform('sum')\n",
    "xyz_analysis['Share_by_XYZ'] = xyz_analysis['Forecast_Quantity'] / xyz_monthly_totals\n",
    "\n",
    "print(\"\\nРозподіл прогнозу по XYZ класах:\")\n",
    "print(xyz_analysis)\n",
    "\n",
    "# Перевірка: загальна сума прогнозів SKU має дорівнювати початковому прогнозу\n",
    "total_check = sku_forecast_df.groupby('Date')['Forecast_Quantity'].sum().reset_index()\n",
    "total_check = total_check.merge(sales_pred, on='Date', how='left')\n",
    "total_check['Difference'] = total_check['Forecast_Quantity'] - total_check['Predicted_Quantity']\n",
    "\n",
    "print(\"\\nПеревірка балансу прогнозів:\")\n",
    "print(total_check)\n",
    "\n",
    "# Створення зведеної таблиці для аналізу\n",
    "pivot_xyz = sku_forecast_df.pivot_table(\n",
    "    index=['Category', 'Sub-Category', 'Product_ID', 'XYZ_Class'],\n",
    "    columns='Date',\n",
    "    values='Forecast_Quantity',\n",
    "    fill_value=0\n",
    ").reset_index()\n",
    "\n",
    "print(\"\\nЗведена таблиця прогнозів по SKU:\")\n",
    "print(pivot_xyz.head())\n",
    "\n",
    "# Статистика по XYZ класах\n",
    "xyz_stats = (\n",
    "    sku_forecast_df.groupby('XYZ_Class')\n",
    "    .agg({\n",
    "        'Product_ID': 'nunique',\n",
    "        'Forecast_Quantity': ['sum', 'mean', 'std']\n",
    "    })\n",
    "    .round(2)\n",
    ")\n",
    "\n",
    "print(\"\\nСтатистика по XYZ класах:\")\n",
    "print(xyz_stats)"
   ]
  },
  {
   "cell_type": "code",
   "execution_count": null,
   "metadata": {
    "execution": {
     "iopub.execute_input": "2025-06-03T21:11:56.294391Z",
     "iopub.status.busy": "2025-06-03T21:11:56.294100Z",
     "iopub.status.idle": "2025-06-03T21:11:57.147607Z",
     "shell.execute_reply": "2025-06-03T21:11:57.146562Z",
     "shell.execute_reply.started": "2025-06-03T21:11:56.294373Z"
    },
    "trusted": true
   },
   "outputs": [
    {
     "name": "stdout",
     "output_type": "stream",
     "text": [
      "\n",
      "=== ПАРАМЕТРИ ДЛЯ РОЗРАХУНКУ МЕТРИК УПРАВЛІННЯ ЗАПАСАМИ ===\n",
      "  XYZ_Class  Lead_Time_Days  Service_Level  Ordering_Cost  Holding_Cost_Rate  \\\n",
      "0         X               7           0.95             50               0.20   \n",
      "1         Y              10           0.90             75               0.25   \n",
      "2         Z              14           0.85            100               0.30   \n",
      "\n",
      "   Unit_Cost  Safety_Stock_Days  \n",
      "0         25                  7  \n",
      "1         30                 14  \n",
      "2         35                 21  \n",
      "\n",
      "=== ЗВІТ ПО МЕТРИКАХ УПРАВЛІННЯ ЗАПАСАМИ ===\n",
      "Загальна кількість SKU: 1862\n",
      "\n",
      "Перші 10 записів:\n",
      " Category Sub-Category      Product_ID XYZ_Class  Annual_Demand  Daily_Demand_Mean  Daily_Demand_Std  EOQ  Safety_Stock  ROP  Max_Stock  Lead_Time_Demand  Orders_Per_Year  Order_Cycle_Days  Lead_Time_Days  Service_Level  Unit_Cost  Annual_Holding_Cost  Annual_Ordering_Cost\n",
      "Furniture    Bookcases FUR-BO-10002213         Z      17.894031           1.491169          0.365269 18.0          31.0 52.0       71.0              21.0              1.0             376.6              14           0.85         35               328.80                 96.92\n",
      "Furniture    Bookcases FUR-BO-10001972         Y      17.618353           1.468196          0.359641 19.0          21.0 35.0       54.0              15.0              0.9             388.9              10           0.90         30               154.16                 70.39\n",
      "Furniture    Bookcases FUR-BO-10002545         X      17.543168           1.461931          0.358107 19.0          10.0 20.0       39.0              10.0              0.9             389.7               7           0.95         25                51.17                 46.83\n",
      "Furniture    Bookcases FUR-BO-10004015         X      17.041934           1.420161          0.347875 18.0          10.0 20.0       38.0              10.0              0.9             395.4               7           0.95         25                49.71                 46.15\n",
      "Furniture    Bookcases FUR-BO-10004218         Y      16.189837           1.349153          0.330481 18.0          19.0 32.0       50.0              13.0              0.9             405.7              10           0.90         30               141.66                 67.48\n",
      "Furniture    Bookcases FUR-BO-10004709         Y      15.237494           1.269791          0.311041 17.0          18.0 30.0       48.0              13.0              0.9             418.2              10           0.90         30               133.33                 65.46\n",
      "Furniture    Bookcases FUR-BO-10004467         Y      14.761322           1.230110          0.301321 17.0          17.0 30.0       47.0              12.0              0.9             424.9              10           0.90         30               129.16                 64.43\n",
      "Furniture    Bookcases FUR-BO-10004695         Y      14.761322           1.230110          0.301321 17.0          17.0 30.0       47.0              12.0              0.9             424.9              10           0.90         30               129.16                 64.43\n",
      "Furniture    Bookcases FUR-BO-10001608         Y      14.285151           1.190429          0.291601 17.0          17.0 29.0       45.0              12.0              0.8             431.9              10           0.90         30               125.00                 63.39\n",
      "Furniture    Bookcases FUR-BO-10001337         Y      13.332807           1.111067          0.272161 16.0          16.0 27.0       43.0              11.0              0.8             447.0              10           0.90         30               116.66                 61.24\n",
      "\n",
      "=== ЗВЕДЕНИЙ АНАЛІЗ ПО XYZ КЛАСАХ ===\n",
      "           SKU_Count  Total_Annual_Demand  Avg_Annual_Demand  Avg_EOQ  \\\n",
      "XYZ_Class                                                               \n",
      "X                717              6542.15               9.12    12.93   \n",
      "Y                962             10580.28              11.00    14.40   \n",
      "Z                183              1023.16               5.59     9.20   \n",
      "\n",
      "           Avg_Safety_Stock  Avg_ROP  Avg_Orders_Per_Year  Total_Holding_Cost  \\\n",
      "XYZ_Class                                                                       \n",
      "X                      5.30    10.65                 0.65            19081.02   \n",
      "Y                     12.81    21.99                 0.72            92577.33   \n",
      "Z                      9.74    16.34                 0.48            18800.38   \n",
      "\n",
      "           Total_Ordering_Cost  \n",
      "XYZ_Class                       \n",
      "X                     23314.60  \n",
      "Y                     52032.34  \n",
      "Z                      8818.62  \n",
      "\n",
      "=== ТОП-20 SKU ЗА РІЧНИМ ПОПИТОМ ===\n",
      "       Category Sub-Category      Product_ID XYZ_Class  Annual_Demand  EOQ  ROP  Safety_Stock\n",
      "     Technology  Accessories TEC-AC-10003832         Y      35.616292 27.0 71.0          42.0\n",
      "Office Supplies        Paper OFF-PA-10001970         Y      33.126705 26.0 66.0          39.0\n",
      "      Furniture       Chairs FUR-CH-10002647         X      31.875722 25.0 37.0          19.0\n",
      "Office Supplies      Binders OFF-BI-10001524         Y      31.814088 25.0 64.0          37.0\n",
      "Office Supplies      Binders OFF-BI-10002026         Y      30.389577 25.0 61.0          35.0\n",
      "      Furniture       Chairs FUR-CH-10003774         X      29.385431 24.0 34.0          17.0\n",
      "     Technology  Accessories TEC-AC-10002049         Y      28.493033 24.0 57.0          33.0\n",
      "Office Supplies      Binders OFF-BI-10004728         Y      28.015391 24.0 56.0          33.0\n",
      "     Technology  Accessories TEC-AC-10003038         Y      27.068382 23.0 54.0          32.0\n",
      "      Furniture  Furnishings FUR-FU-10001473         Y      26.881594 23.0 54.0          31.0\n",
      "Office Supplies      Storage OFF-ST-10001809         Y      26.048400 23.0 52.0          30.0\n",
      "      Furniture       Tables FUR-TA-10001095         Z      25.994244 22.0 76.0          45.0\n",
      "     Technology  Accessories TEC-AC-10003628         X      25.993644 23.0 30.0          15.0\n",
      "Office Supplies        Paper OFF-PA-10002377         X      25.903589 23.0 30.0          15.0\n",
      "      Furniture       Chairs FUR-CH-10002880         Y      25.550383 23.0 51.0          30.0\n",
      "      Furniture       Chairs FUR-CH-10000454         X      25.400966 23.0 30.0          15.0\n",
      "Office Supplies        Paper OFF-PA-10003441         Y      25.081648 22.0 50.0          29.0\n",
      "      Furniture       Chairs FUR-CH-10004287         Y      25.077228 22.0 50.0          29.0\n",
      "     Technology  Accessories TEC-AC-10004510         X      24.993889 22.0 29.0          15.0\n",
      "Office Supplies      Binders OFF-BI-10001718         X      24.991428 22.0 29.0          15.0\n",
      "\n",
      "=== ДОСТУПНІ ФУНКЦІЇ ===\n",
      "1. export_inventory_results() - експорт всіх результатів у CSV\n",
      "2. filter_results(category='Technology', xyz_class='X') - фільтрація результатів\n",
      "3. inventory_report - основна таблиця з результатами\n",
      "4. inventory_params - параметри для налаштування системи\n",
      "\n",
      "Приклад використання фільтрів:\n",
      "filter_results(category='Technology', min_demand=1000)\n",
      "\n",
      "✅ Основний звіт експортовано: inventory_management_report.csv\n",
      "✅ Параметри системи експортовано: inventory_parameters.csv\n",
      "✅ Зведений аналіз експортовано: xyz_analysis_summary.csv\n",
      "✅ Топ-20 SKU експортовано: top_20_skus.csv\n",
      "✅ Детальний прогноз експортовано: detailed_sku_forecast.csv\n",
      "\n",
      "🎉 Всі файли успішно експортовано!\n"
     ]
    }
   ],
   "source": [
    "# ===================== РОЗРАХУНОК МЕТРИК УПРАВЛІННЯ ЗАПАСАМИ =====================\n",
    "\n",
    "# Створення датафрейму з параметрами для розрахунку метрик (легко редагувати)\n",
    "inventory_params = pd.DataFrame({\n",
    "    'XYZ_Class': ['X', 'Y', 'Z'],\n",
    "    'Lead_Time_Days': [7, 10, 14],  # Час поставки в днях\n",
    "    'Service_Level': [0.95, 0.90, 0.85],  # Рівень сервісу (95%, 90%, 85%)\n",
    "    'Ordering_Cost': [50, 75, 100],  # Вартість оформлення замовлення\n",
    "    'Holding_Cost_Rate': [0.20, 0.25, 0.30],  # Відсоток від вартості товару на рік\n",
    "    'Unit_Cost': [25, 30, 35],  # Середня собівартість одиниці товару\n",
    "    'Safety_Stock_Days': [7, 14, 21]  # Кількість днів для страхового запасу\n",
    "})\n",
    "\n",
    "print(\"\\n=== ПАРАМЕТРИ ДЛЯ РОЗРАХУНКУ МЕТРИК УПРАВЛІННЯ ЗАПАСАМИ ===\")\n",
    "print(inventory_params)\n",
    "\n",
    "# Функція для розрахунку z-score для заданого рівня сервісу\n",
    "from scipy import stats\n",
    "\n",
    "def get_z_score(service_level):\n",
    "    return stats.norm.ppf(service_level)\n",
    "\n",
    "# Додаємо z-score до параметрів\n",
    "inventory_params['Z_Score'] = inventory_params['Service_Level'].apply(get_z_score)\n",
    "\n",
    "# Розрахунок річного попиту для кожного SKU\n",
    "annual_demand = sku_forecast_df.groupby(['Category', 'Sub-Category', 'Product_ID', 'XYZ_Class'])['Forecast_Quantity'].sum().reset_index()\n",
    "annual_demand.rename(columns={'Forecast_Quantity': 'Annual_Demand'}, inplace=True)\n",
    "\n",
    "# Розрахунок середньоденного попиту та стандартного відхилення\n",
    "daily_demand_stats = (\n",
    "    sku_forecast_df.groupby(['Category', 'Sub-Category', 'Product_ID', 'XYZ_Class'])['Forecast_Quantity']\n",
    "    .agg(['mean', 'std'])\n",
    "    .reset_index()\n",
    ")\n",
    "daily_demand_stats.columns = ['Category', 'Sub-Category', 'Product_ID', 'XYZ_Class', 'Daily_Demand_Mean', 'Daily_Demand_Std']\n",
    "\n",
    "# Заповнення NaN значень для стандартного відхилення (для випадків з одним значенням)\n",
    "daily_demand_stats['Daily_Demand_Std'] = daily_demand_stats['Daily_Demand_Std'].fillna(\n",
    "    daily_demand_stats['Daily_Demand_Mean'] * 0.1  # Припускаємо 10% від середнього\n",
    ")\n",
    "\n",
    "# Об'єднання всіх даних\n",
    "inventory_data = annual_demand.merge(daily_demand_stats, on=['Category', 'Sub-Category', 'Product_ID', 'XYZ_Class'])\n",
    "inventory_data = inventory_data.merge(inventory_params, on='XYZ_Class')\n",
    "\n",
    "# Розрахунок метрик управління запасами\n",
    "def calculate_inventory_metrics(row):\n",
    "    # Дані з рядка\n",
    "    annual_demand = row['Annual_Demand']\n",
    "    daily_demand_mean = row['Daily_Demand_Mean']\n",
    "    daily_demand_std = row['Daily_Demand_Std']\n",
    "    lead_time = row['Lead_Time_Days']\n",
    "    ordering_cost = row['Ordering_Cost']\n",
    "    holding_cost_rate = row['Holding_Cost_Rate']\n",
    "    unit_cost = row['Unit_Cost']\n",
    "    z_score = row['Z_Score']\n",
    "    safety_days = row['Safety_Stock_Days']\n",
    "    \n",
    "    # 1. EOQ (Economic Order Quantity)\n",
    "    holding_cost_per_unit = unit_cost * holding_cost_rate\n",
    "    if holding_cost_per_unit > 0:\n",
    "        eoq = (2 * annual_demand * ordering_cost / holding_cost_per_unit) ** 0.5\n",
    "    else:\n",
    "        eoq = 0\n",
    "    \n",
    "    # 2. Страховий запас (Safety Stock)\n",
    "    # Метод 1: На основі рівня сервісу та варіації попиту\n",
    "    if daily_demand_std > 0:\n",
    "        safety_stock_service = z_score * daily_demand_std * (lead_time ** 0.5)\n",
    "    else:\n",
    "        safety_stock_service = 0\n",
    "    \n",
    "    # Метод 2: На основі днів покриття\n",
    "    safety_stock_days = daily_demand_mean * safety_days\n",
    "    \n",
    "    # Використовуємо максимум з двох методів для більшої надійності\n",
    "    safety_stock = max(safety_stock_service, safety_stock_days)\n",
    "    \n",
    "    # 3. ROP (Reorder Point)\n",
    "    lead_time_demand = daily_demand_mean * lead_time\n",
    "    rop = lead_time_demand + safety_stock\n",
    "    \n",
    "    # 4. Максимальний запас\n",
    "    max_stock = rop + eoq\n",
    "    \n",
    "    # 5. Кількість замовлень на рік\n",
    "    orders_per_year = annual_demand / eoq if eoq > 0 else 0\n",
    "    \n",
    "    # 6. Цикл замовлення (в днях)\n",
    "    order_cycle_days = 365 / orders_per_year if orders_per_year > 0 else 0\n",
    "    \n",
    "    return pd.Series({\n",
    "        'EOQ': round(eoq, 0),\n",
    "        'Safety_Stock': round(safety_stock, 0),\n",
    "        'ROP': round(rop, 0),\n",
    "        'Max_Stock': round(max_stock, 0),\n",
    "        'Lead_Time_Demand': round(lead_time_demand, 0),\n",
    "        'Orders_Per_Year': round(orders_per_year, 1),\n",
    "        'Order_Cycle_Days': round(order_cycle_days, 1),\n",
    "        'Annual_Holding_Cost': round(safety_stock * unit_cost * holding_cost_rate, 2),\n",
    "        'Annual_Ordering_Cost': round(orders_per_year * ordering_cost, 2)\n",
    "    })\n",
    "\n",
    "# Застосування розрахунків до всіх рядків\n",
    "inventory_metrics = inventory_data.apply(calculate_inventory_metrics, axis=1)\n",
    "final_results = pd.concat([inventory_data, inventory_metrics], axis=1)\n",
    "\n",
    "# Вибір стовпців для фінального звіту\n",
    "report_columns = [\n",
    "    'Category', 'Sub-Category', 'Product_ID', 'XYZ_Class',\n",
    "    'Annual_Demand', 'Daily_Demand_Mean', 'Daily_Demand_Std',\n",
    "    'EOQ', 'Safety_Stock', 'ROP'\n",
    "]\n",
    "\n",
    "inventory_report = final_results[report_columns].copy()\n",
    "\n",
    "# Сортування для зручності\n",
    "inventory_report = inventory_report.sort_values(['Category', 'Sub-Category', 'Annual_Demand'], ascending=[True, True, False])\n",
    "\n",
    "print(\"\\n=== ЗВІТ ПО МЕТРИКАХ УПРАВЛІННЯ ЗАПАСАМИ ===\")\n",
    "print(f\"Загальна кількість SKU: {len(inventory_report)}\")\n",
    "print(\"\\nПерші 10 записів:\")\n",
    "print(inventory_report.head(10).to_string(index=False))\n",
    "\n",
    "# Створення зведеного аналізу по XYZ класах\n",
    "xyz_summary = inventory_report.groupby('XYZ_Class').agg({\n",
    "    'Product_ID': 'count',\n",
    "    'Annual_Demand': ['sum', 'mean'],\n",
    "    'EOQ': 'mean',\n",
    "    'Safety_Stock': 'mean',\n",
    "    'ROP': 'mean',\n",
    "    'Orders_Per_Year': 'mean',\n",
    "    'Annual_Holding_Cost': 'sum',\n",
    "    'Annual_Ordering_Cost': 'sum'\n",
    "}).round(2)\n",
    "\n",
    "xyz_summary.columns = ['SKU_Count', 'Total_Annual_Demand', 'Avg_Annual_Demand', \n",
    "                       'Avg_EOQ', 'Avg_Safety_Stock', 'Avg_ROP', 'Avg_Orders_Per_Year',\n",
    "                       'Total_Holding_Cost', 'Total_Ordering_Cost']\n",
    "\n",
    "print(\"\\n=== ЗВЕДЕНИЙ АНАЛІЗ ПО XYZ КЛАСАХ ===\")\n",
    "print(xyz_summary)\n",
    "\n",
    "# Топ-20 SKU за річним попитом\n",
    "top_skus = inventory_report.nlargest(20, 'Annual_Demand')[\n",
    "    ['Category', 'Sub-Category', 'Product_ID', 'XYZ_Class', 'Annual_Demand', 'EOQ', 'ROP', 'Safety_Stock']\n",
    "]\n",
    "\n",
    "print(\"\\n=== ТОП-20 SKU ЗА РІЧНИМ ПОПИТОМ ===\")\n",
    "print(top_skus.to_string(index=False))\n",
    "\n",
    "# Функція для експорту результатів\n",
    "def export_inventory_results():\n",
    "    \"\"\"Експорт всіх результатів у CSV файли\"\"\"\n",
    "    \n",
    "    # 1. Основний звіт\n",
    "    inventory_report.to_csv('inventory_management_report.csv', index=False, encoding='utf-8')\n",
    "    print(\"\\n✅ Основний звіт експортовано: inventory_management_report.csv\")\n",
    "    \n",
    "    # 2. Параметри системи\n",
    "    inventory_params.to_csv('inventory_parameters.csv', index=False, encoding='utf-8')\n",
    "    print(\"✅ Параметри системи експортовано: inventory_parameters.csv\")\n",
    "    \n",
    "    # 3. Зведений аналіз\n",
    "    xyz_summary.to_csv('xyz_analysis_summary.csv', encoding='utf-8')\n",
    "    print(\"✅ Зведений аналіз експортовано: xyz_analysis_summary.csv\")\n",
    "    \n",
    "    # 4. Топ SKU\n",
    "    top_skus.to_csv('top_20_skus.csv', index=False, encoding='utf-8')\n",
    "    print(\"✅ Топ-20 SKU експортовано: top_20_skus.csv\")\n",
    "    \n",
    "    # 5. Детальний прогноз\n",
    "    sku_forecast_df.to_csv('detailed_sku_forecast.csv', index=False, encoding='utf-8')\n",
    "    print(\"✅ Детальний прогноз експортовано: detailed_sku_forecast.csv\")\n",
    "    \n",
    "    print(\"\\n🎉 Всі файли успішно експортовано!\")\n",
    "\n",
    "# Функція для фільтрації результатів\n",
    "def filter_results(category=None, xyz_class=None, min_demand=None, max_demand=None):\n",
    "    \"\"\"Фільтрація результатів за різними критеріями\"\"\"\n",
    "    filtered_data = inventory_report.copy()\n",
    "    \n",
    "    if category:\n",
    "        filtered_data = filtered_data[filtered_data['Category'] == category]\n",
    "    if xyz_class:\n",
    "        filtered_data = filtered_data[filtered_data['XYZ_Class'] == xyz_class]\n",
    "    if min_demand:\n",
    "        filtered_data = filtered_data[filtered_data['Annual_Demand'] >= min_demand]\n",
    "    if max_demand:\n",
    "        filtered_data = filtered_data[filtered_data['Annual_Demand'] <= max_demand]\n",
    "    \n",
    "    return filtered_data\n",
    "\n",
    "print(\"\\n=== ДОСТУПНІ ФУНКЦІЇ ===\")\n",
    "print(\"1. export_inventory_results() - експорт всіх результатів у CSV\")\n",
    "print(\"2. filter_results(category='Technology', xyz_class='X') - фільтрація результатів\")\n",
    "print(\"3. inventory_report - основна таблиця з результатами\")\n",
    "print(\"4. inventory_params - параметри для налаштування системи\")\n",
    "\n",
    "print(\"\\nПриклад використання фільтрів:\")\n",
    "print(\"filter_results(category='Technology', min_demand=1000)\")\n",
    "\n",
    "# Автоматичний експорт (розкоментуйте при необхідності)\n",
    "export_inventory_results()"
   ]
  }
 ],
 "metadata": {
  "kaggle": {
   "accelerator": "none",
   "dataSources": [
    {
     "datasetId": 3640689,
     "sourceId": 6325683,
     "sourceType": "datasetVersion"
    }
   ],
   "dockerImageVersionId": 31040,
   "isGpuEnabled": false,
   "isInternetEnabled": true,
   "language": "python",
   "sourceType": "notebook"
  },
  "kernelspec": {
   "display_name": "Python 3",
   "language": "python",
   "name": "python3"
  },
  "language_info": {
   "codemirror_mode": {
    "name": "ipython",
    "version": 3
   },
   "file_extension": ".py",
   "mimetype": "text/x-python",
   "name": "python",
   "nbconvert_exporter": "python",
   "pygments_lexer": "ipython3",
   "version": "3.11.11"
  }
 },
 "nbformat": 4,
 "nbformat_minor": 4
}
